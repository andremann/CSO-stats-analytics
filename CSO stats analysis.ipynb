{
 "cells": [
  {
   "cell_type": "markdown",
   "metadata": {},
   "source": [
    "# Data preparation"
   ]
  },
  {
   "cell_type": "markdown",
   "metadata": {},
   "source": [
    "Run the following once! It just fetches additional data for geolocating IP addresses."
   ]
  },
  {
   "cell_type": "code",
   "execution_count": 3,
   "metadata": {},
   "outputs": [],
   "source": [
    "# !curl https://geolite.maxmind.com/download/geoip/database/GeoLite2-City.tar.gz > ./data/geoip.dat.gz\n",
    "# !gunzip ./data/geoip.dat.gz"
   ]
  },
  {
   "cell_type": "code",
   "execution_count": 1,
   "metadata": {},
   "outputs": [
    {
     "data": {
      "text/html": [
       "<script type=\"text/javascript\">window.PlotlyConfig = {MathJaxConfig: 'local'};</script><script type=\"text/javascript\">if (window.MathJax) {MathJax.Hub.Config({SVG: {font: \"STIX-Web\"}});}</script><script>requirejs.config({paths: { 'plotly': ['https://cdn.plot.ly/plotly-latest.min']},});if(!window._Plotly) {require(['plotly'],function(plotly) {window._Plotly=plotly;});}</script>"
      ],
      "text/vnd.plotly.v1+html": [
       "<script type=\"text/javascript\">window.PlotlyConfig = {MathJaxConfig: 'local'};</script><script type=\"text/javascript\">if (window.MathJax) {MathJax.Hub.Config({SVG: {font: \"STIX-Web\"}});}</script><script>requirejs.config({paths: { 'plotly': ['https://cdn.plot.ly/plotly-latest.min']},});if(!window._Plotly) {require(['plotly'],function(plotly) {window._Plotly=plotly;});}</script>"
      ]
     },
     "metadata": {},
     "output_type": "display_data"
    }
   ],
   "source": [
    "import pandas as pd\n",
    "import numpy as np\n",
    "import socket\n",
    "from dns import reversename, resolver\n",
    "\n",
    "import pygeoip\n",
    "import pycountry_convert as pycountry\n",
    "\n",
    "import plotly\n",
    "from plotly.offline import iplot, init_notebook_mode\n",
    "import plotly.graph_objs as go\n",
    "import plotly.figure_factory as ff\n",
    "import plotly.io as pio\n",
    "\n",
    "init_notebook_mode(connected=True)\n",
    "\n",
    "pd.set_option('display.max_columns', None)\n",
    "pd.set_option('display.max_colwidth', 50)"
   ]
  },
  {
   "cell_type": "markdown",
   "metadata": {},
   "source": [
    "Let's define a function for IP resolution"
   ]
  },
  {
   "cell_type": "code",
   "execution_count": 2,
   "metadata": {},
   "outputs": [],
   "source": [
    "rawdata = pygeoip.GeoIP('./data/geoip.dat')\n",
    "\n",
    "def ipquery(ip):\n",
    "    data = rawdata.record_by_name(ip)\n",
    "    if data is not None:\n",
    "        country = data['country_name']\n",
    "        city = data['city']\n",
    "        lon = data['longitude']\n",
    "        lat = data['latitude']\n",
    "        return [city, country, lat, lon]\n",
    "    else:\n",
    "        return [None, None, None, None]"
   ]
  },
  {
   "cell_type": "code",
   "execution_count": 3,
   "metadata": {},
   "outputs": [],
   "source": [
    "def reverse_dns(ip):\n",
    "    rev_name = reversename.from_address(ip)\n",
    "    return str(resolver.query(rev_name,\"PTR\")[0])\n",
    "\n",
    "def reverse_dns2(ip):\n",
    "    try:\n",
    "        return str(socket.gethostbyaddr(ip)[0])\n",
    "    except:\n",
    "        return 'unknown'"
   ]
  },
  {
   "cell_type": "markdown",
   "metadata": {},
   "source": [
    "Loading dataframes"
   ]
  },
  {
   "cell_type": "code",
   "execution_count": 4,
   "metadata": {},
   "outputs": [
    {
     "data": {
      "text/html": [
       "<div>\n",
       "<style scoped>\n",
       "    .dataframe tbody tr th:only-of-type {\n",
       "        vertical-align: middle;\n",
       "    }\n",
       "\n",
       "    .dataframe tbody tr th {\n",
       "        vertical-align: top;\n",
       "    }\n",
       "\n",
       "    .dataframe thead th {\n",
       "        text-align: right;\n",
       "    }\n",
       "</style>\n",
       "<table border=\"1\" class=\"dataframe\">\n",
       "  <thead>\n",
       "    <tr style=\"text-align: right;\">\n",
       "      <th></th>\n",
       "      <th>exists</th>\n",
       "      <th>format</th>\n",
       "      <th>id</th>\n",
       "      <th>time</th>\n",
       "      <th>topic</th>\n",
       "      <th>user</th>\n",
       "    </tr>\n",
       "  </thead>\n",
       "  <tbody>\n",
       "    <tr>\n",
       "      <th>0</th>\n",
       "      <td>1</td>\n",
       "      <td>html</td>\n",
       "      <td>1</td>\n",
       "      <td>2018-07-20 12:53:30</td>\n",
       "      <td>computer science</td>\n",
       "      <td>angelo.salatino@open.ac.uk</td>\n",
       "    </tr>\n",
       "    <tr>\n",
       "      <th>1</th>\n",
       "      <td>1</td>\n",
       "      <td>html</td>\n",
       "      <td>2</td>\n",
       "      <td>2018-07-20 13:01:17</td>\n",
       "      <td>evaluation index system</td>\n",
       "      <td>5.45.207.68</td>\n",
       "    </tr>\n",
       "    <tr>\n",
       "      <th>2</th>\n",
       "      <td>1</td>\n",
       "      <td>html</td>\n",
       "      <td>3</td>\n",
       "      <td>2018-07-20 13:15:16</td>\n",
       "      <td>alpha phellandrene</td>\n",
       "      <td>66.249.79.98</td>\n",
       "    </tr>\n",
       "    <tr>\n",
       "      <th>3</th>\n",
       "      <td>1</td>\n",
       "      <td>html</td>\n",
       "      <td>4</td>\n",
       "      <td>2018-07-20 13:41:17</td>\n",
       "      <td>computer science</td>\n",
       "      <td>195.128.10.106</td>\n",
       "    </tr>\n",
       "    <tr>\n",
       "      <th>4</th>\n",
       "      <td>1</td>\n",
       "      <td>html</td>\n",
       "      <td>5</td>\n",
       "      <td>2018-07-20 13:44:44</td>\n",
       "      <td>microprocessor chips</td>\n",
       "      <td>195.128.10.106</td>\n",
       "    </tr>\n",
       "  </tbody>\n",
       "</table>\n",
       "</div>"
      ],
      "text/plain": [
       "  exists format id                 time                    topic  \\\n",
       "0      1   html  1  2018-07-20 12:53:30         computer science   \n",
       "1      1   html  2  2018-07-20 13:01:17  evaluation index system   \n",
       "2      1   html  3  2018-07-20 13:15:16       alpha phellandrene   \n",
       "3      1   html  4  2018-07-20 13:41:17         computer science   \n",
       "4      1   html  5  2018-07-20 13:44:44     microprocessor chips   \n",
       "\n",
       "                         user  \n",
       "0  angelo.salatino@open.ac.uk  \n",
       "1                 5.45.207.68  \n",
       "2                66.249.79.98  \n",
       "3              195.128.10.106  \n",
       "4              195.128.10.106  "
      ]
     },
     "execution_count": 4,
     "metadata": {},
     "output_type": "execute_result"
    }
   ],
   "source": [
    "lst = pd.read_json('./data/log_topic_request.json').loc[2]['data']\n",
    "topics_req_df = pd.DataFrame(lst)\n",
    "topics_req_df.head(n=5)"
   ]
  },
  {
   "cell_type": "code",
   "execution_count": 5,
   "metadata": {},
   "outputs": [
    {
     "data": {
      "text/plain": [
       "92654"
      ]
     },
     "execution_count": 5,
     "metadata": {},
     "output_type": "execute_result"
    }
   ],
   "source": [
    "topics_req_df.shape[0]"
   ]
  },
  {
   "cell_type": "code",
   "execution_count": 6,
   "metadata": {},
   "outputs": [
    {
     "data": {
      "text/html": [
       "<div>\n",
       "<style scoped>\n",
       "    .dataframe tbody tr th:only-of-type {\n",
       "        vertical-align: middle;\n",
       "    }\n",
       "\n",
       "    .dataframe tbody tr th {\n",
       "        vertical-align: top;\n",
       "    }\n",
       "\n",
       "    .dataframe thead th {\n",
       "        text-align: right;\n",
       "    }\n",
       "</style>\n",
       "<table border=\"1\" class=\"dataframe\">\n",
       "  <thead>\n",
       "    <tr style=\"text-align: right;\">\n",
       "      <th></th>\n",
       "      <th>format</th>\n",
       "      <th>id</th>\n",
       "      <th>time</th>\n",
       "      <th>user</th>\n",
       "      <th>version</th>\n",
       "    </tr>\n",
       "  </thead>\n",
       "  <tbody>\n",
       "    <tr>\n",
       "      <th>0</th>\n",
       "      <td>nt</td>\n",
       "      <td>1</td>\n",
       "      <td>2018-10-29 18:02:57</td>\n",
       "      <td>angelo.salatino@open.ac.uk</td>\n",
       "      <td>3.0</td>\n",
       "    </tr>\n",
       "    <tr>\n",
       "      <th>1</th>\n",
       "      <td>owl</td>\n",
       "      <td>2</td>\n",
       "      <td>2018-10-29 18:03:00</td>\n",
       "      <td>angelo.salatino@open.ac.uk</td>\n",
       "      <td>3.0</td>\n",
       "    </tr>\n",
       "    <tr>\n",
       "      <th>2</th>\n",
       "      <td>csv</td>\n",
       "      <td>3</td>\n",
       "      <td>2018-10-29 18:03:01</td>\n",
       "      <td>angelo.salatino@open.ac.uk</td>\n",
       "      <td>3.0</td>\n",
       "    </tr>\n",
       "    <tr>\n",
       "      <th>3</th>\n",
       "      <td>csv</td>\n",
       "      <td>4</td>\n",
       "      <td>2018-10-29 18:03:26</td>\n",
       "      <td>137.108.66.104</td>\n",
       "      <td>3.0</td>\n",
       "    </tr>\n",
       "    <tr>\n",
       "      <th>4</th>\n",
       "      <td>owl</td>\n",
       "      <td>5</td>\n",
       "      <td>2018-10-29 18:03:29</td>\n",
       "      <td>137.108.66.104</td>\n",
       "      <td>3.0</td>\n",
       "    </tr>\n",
       "  </tbody>\n",
       "</table>\n",
       "</div>"
      ],
      "text/plain": [
       "  format id                 time                        user version\n",
       "0     nt  1  2018-10-29 18:02:57  angelo.salatino@open.ac.uk     3.0\n",
       "1    owl  2  2018-10-29 18:03:00  angelo.salatino@open.ac.uk     3.0\n",
       "2    csv  3  2018-10-29 18:03:01  angelo.salatino@open.ac.uk     3.0\n",
       "3    csv  4  2018-10-29 18:03:26              137.108.66.104     3.0\n",
       "4    owl  5  2018-10-29 18:03:29              137.108.66.104     3.0"
      ]
     },
     "execution_count": 6,
     "metadata": {},
     "output_type": "execute_result"
    }
   ],
   "source": [
    "lst = pd.read_json('./data/log_download_request.json').loc[2]['data']\n",
    "downloads_req_df = pd.DataFrame(lst)\n",
    "downloads_req_df.head(n=5)"
   ]
  },
  {
   "cell_type": "code",
   "execution_count": 7,
   "metadata": {},
   "outputs": [
    {
     "data": {
      "text/plain": [
       "115"
      ]
     },
     "execution_count": 7,
     "metadata": {},
     "output_type": "execute_result"
    }
   ],
   "source": [
    "downloads_req_df.shape[0]"
   ]
  },
  {
   "cell_type": "markdown",
   "metadata": {},
   "source": [
    "We have to patch email addresses (i.e. _user_ column); let's make them point to relevant IP address \n",
    "(these users are mainly us from KMi (**137.108.113.93**) or from Germany (Alex))"
   ]
  },
  {
   "cell_type": "code",
   "execution_count": 8,
   "metadata": {},
   "outputs": [
    {
     "data": {
      "text/plain": [
       "array(['angelo.salatino@open.ac.uk', 'cso.skm3@gmail.com',\n",
       "       'aliaksandr.birukou@springer.com', 'enrico.motta@open.ac.uk',\n",
       "       'nina4ever27@gmail.com', 'rakeshgoad1999piplai@gmail.com',\n",
       "       'danilodessi92@gmail.com', 'francesco.osborne@open.ac.uk',\n",
       "       'martin.hlosta@open.ac.uk', 'matteo.cancellieri@open.ac.uk',\n",
       "       'hakan.kiziloz@open.ac.uk', 'enrico.daga@open.ac.uk',\n",
       "       'dasha.herrmannova@open.ac.uk', 'andrea.mannocci@open.ac.uk',\n",
       "       'corrado.mencar@uniba.it'], dtype=object)"
      ]
     },
     "execution_count": 8,
     "metadata": {},
     "output_type": "execute_result"
    }
   ],
   "source": [
    "topics_req_df.loc[topics_req_df.user.str.contains('@')]['user'].unique()"
   ]
  },
  {
   "cell_type": "code",
   "execution_count": 9,
   "metadata": {},
   "outputs": [
    {
     "data": {
      "text/html": [
       "<div>\n",
       "<style scoped>\n",
       "    .dataframe tbody tr th:only-of-type {\n",
       "        vertical-align: middle;\n",
       "    }\n",
       "\n",
       "    .dataframe tbody tr th {\n",
       "        vertical-align: top;\n",
       "    }\n",
       "\n",
       "    .dataframe thead th {\n",
       "        text-align: right;\n",
       "    }\n",
       "</style>\n",
       "<table border=\"1\" class=\"dataframe\">\n",
       "  <thead>\n",
       "    <tr style=\"text-align: right;\">\n",
       "      <th></th>\n",
       "      <th>exists</th>\n",
       "      <th>format</th>\n",
       "      <th>id</th>\n",
       "      <th>time</th>\n",
       "      <th>topic</th>\n",
       "      <th>user</th>\n",
       "    </tr>\n",
       "  </thead>\n",
       "  <tbody>\n",
       "    <tr>\n",
       "      <th>0</th>\n",
       "      <td>1</td>\n",
       "      <td>html</td>\n",
       "      <td>1</td>\n",
       "      <td>2018-07-20 12:53:30</td>\n",
       "      <td>computer science</td>\n",
       "      <td>137.108.200.90</td>\n",
       "    </tr>\n",
       "    <tr>\n",
       "      <th>1</th>\n",
       "      <td>1</td>\n",
       "      <td>html</td>\n",
       "      <td>2</td>\n",
       "      <td>2018-07-20 13:01:17</td>\n",
       "      <td>evaluation index system</td>\n",
       "      <td>5.45.207.68</td>\n",
       "    </tr>\n",
       "    <tr>\n",
       "      <th>2</th>\n",
       "      <td>1</td>\n",
       "      <td>html</td>\n",
       "      <td>3</td>\n",
       "      <td>2018-07-20 13:15:16</td>\n",
       "      <td>alpha phellandrene</td>\n",
       "      <td>66.249.79.98</td>\n",
       "    </tr>\n",
       "    <tr>\n",
       "      <th>3</th>\n",
       "      <td>1</td>\n",
       "      <td>html</td>\n",
       "      <td>4</td>\n",
       "      <td>2018-07-20 13:41:17</td>\n",
       "      <td>computer science</td>\n",
       "      <td>195.128.10.106</td>\n",
       "    </tr>\n",
       "    <tr>\n",
       "      <th>4</th>\n",
       "      <td>1</td>\n",
       "      <td>html</td>\n",
       "      <td>5</td>\n",
       "      <td>2018-07-20 13:44:44</td>\n",
       "      <td>microprocessor chips</td>\n",
       "      <td>195.128.10.106</td>\n",
       "    </tr>\n",
       "  </tbody>\n",
       "</table>\n",
       "</div>"
      ],
      "text/plain": [
       "  exists format id                 time                    topic  \\\n",
       "0      1   html  1  2018-07-20 12:53:30         computer science   \n",
       "1      1   html  2  2018-07-20 13:01:17  evaluation index system   \n",
       "2      1   html  3  2018-07-20 13:15:16       alpha phellandrene   \n",
       "3      1   html  4  2018-07-20 13:41:17         computer science   \n",
       "4      1   html  5  2018-07-20 13:44:44     microprocessor chips   \n",
       "\n",
       "             user  \n",
       "0  137.108.200.90  \n",
       "1     5.45.207.68  \n",
       "2    66.249.79.98  \n",
       "3  195.128.10.106  \n",
       "4  195.128.10.106  "
      ]
     },
     "execution_count": 9,
     "metadata": {},
     "output_type": "execute_result"
    }
   ],
   "source": [
    "topics_req_df.loc[topics_req_df.user.str.contains('@open.ac.uk'), 'user'] = '137.108.200.90' # UK\n",
    "topics_req_df.loc[topics_req_df.user.str.contains('aliaksandr.birukou'), 'user'] = '129.206.13.27' # DE\n",
    "topics_req_df.loc[topics_req_df.user.str.contains('skm3'), 'user'] = '137.108.200.90'\n",
    "topics_req_df.loc[topics_req_df.user.str.contains('danilodessi92@gmail.com'), 'user'] = '137.108.200.90'\n",
    "topics_req_df.loc[topics_req_df.user.str.contains('nina4ever27'), 'user'] = '178.253.95.9' # Syria\n",
    "topics_req_df.loc[topics_req_df.user.str.contains('rakeshgoad1999piplai'), 'user'] = '64.236.16.116' # US\n",
    "topics_req_df.loc[topics_req_df.user.str.contains('uniba.it'), 'user'] = '192.167.60.25' # IT\n",
    "topics_req_df.head()"
   ]
  },
  {
   "cell_type": "code",
   "execution_count": 10,
   "metadata": {},
   "outputs": [
    {
     "data": {
      "text/plain": [
       "array(['angelo.salatino@open.ac.uk'], dtype=object)"
      ]
     },
     "execution_count": 10,
     "metadata": {},
     "output_type": "execute_result"
    }
   ],
   "source": [
    "downloads_req_df.loc[downloads_req_df.user.str.contains('@')]['user'].unique()"
   ]
  },
  {
   "cell_type": "code",
   "execution_count": 11,
   "metadata": {},
   "outputs": [
    {
     "data": {
      "text/html": [
       "<div>\n",
       "<style scoped>\n",
       "    .dataframe tbody tr th:only-of-type {\n",
       "        vertical-align: middle;\n",
       "    }\n",
       "\n",
       "    .dataframe tbody tr th {\n",
       "        vertical-align: top;\n",
       "    }\n",
       "\n",
       "    .dataframe thead th {\n",
       "        text-align: right;\n",
       "    }\n",
       "</style>\n",
       "<table border=\"1\" class=\"dataframe\">\n",
       "  <thead>\n",
       "    <tr style=\"text-align: right;\">\n",
       "      <th></th>\n",
       "      <th>format</th>\n",
       "      <th>id</th>\n",
       "      <th>time</th>\n",
       "      <th>user</th>\n",
       "      <th>version</th>\n",
       "    </tr>\n",
       "  </thead>\n",
       "  <tbody>\n",
       "    <tr>\n",
       "      <th>0</th>\n",
       "      <td>nt</td>\n",
       "      <td>1</td>\n",
       "      <td>2018-10-29 18:02:57</td>\n",
       "      <td>137.108.200.90</td>\n",
       "      <td>3.0</td>\n",
       "    </tr>\n",
       "    <tr>\n",
       "      <th>1</th>\n",
       "      <td>owl</td>\n",
       "      <td>2</td>\n",
       "      <td>2018-10-29 18:03:00</td>\n",
       "      <td>137.108.200.90</td>\n",
       "      <td>3.0</td>\n",
       "    </tr>\n",
       "    <tr>\n",
       "      <th>2</th>\n",
       "      <td>csv</td>\n",
       "      <td>3</td>\n",
       "      <td>2018-10-29 18:03:01</td>\n",
       "      <td>137.108.200.90</td>\n",
       "      <td>3.0</td>\n",
       "    </tr>\n",
       "    <tr>\n",
       "      <th>3</th>\n",
       "      <td>csv</td>\n",
       "      <td>4</td>\n",
       "      <td>2018-10-29 18:03:26</td>\n",
       "      <td>137.108.66.104</td>\n",
       "      <td>3.0</td>\n",
       "    </tr>\n",
       "    <tr>\n",
       "      <th>4</th>\n",
       "      <td>owl</td>\n",
       "      <td>5</td>\n",
       "      <td>2018-10-29 18:03:29</td>\n",
       "      <td>137.108.66.104</td>\n",
       "      <td>3.0</td>\n",
       "    </tr>\n",
       "  </tbody>\n",
       "</table>\n",
       "</div>"
      ],
      "text/plain": [
       "  format id                 time            user version\n",
       "0     nt  1  2018-10-29 18:02:57  137.108.200.90     3.0\n",
       "1    owl  2  2018-10-29 18:03:00  137.108.200.90     3.0\n",
       "2    csv  3  2018-10-29 18:03:01  137.108.200.90     3.0\n",
       "3    csv  4  2018-10-29 18:03:26  137.108.66.104     3.0\n",
       "4    owl  5  2018-10-29 18:03:29  137.108.66.104     3.0"
      ]
     },
     "execution_count": 11,
     "metadata": {},
     "output_type": "execute_result"
    }
   ],
   "source": [
    "downloads_req_df.loc[downloads_req_df.user.str.contains('@open.ac.uk'), 'user'] = '137.108.200.90'\n",
    "downloads_req_df.head()"
   ]
  },
  {
   "cell_type": "markdown",
   "metadata": {},
   "source": [
    "Done!   \n",
    "Now, let's create 4 new columns with the IP geolocation"
   ]
  },
  {
   "cell_type": "code",
   "execution_count": null,
   "metadata": {},
   "outputs": [],
   "source": [
    "ip_info = pd.concat([topics_req_df[['user']], downloads_req_df[['user']]]).drop_duplicates()\n",
    "ip_info['host'] = ip_info['user'].map(lambda ip: reverse_dns2(ip))\n",
    "ip_info[['city', 'country', 'lat', 'lon']] = ip_info.apply(lambda row: pd.Series(ipquery(row['user'])), axis=1)\n",
    "ip_info.head()"
   ]
  },
  {
   "cell_type": "code",
   "execution_count": null,
   "metadata": {},
   "outputs": [],
   "source": [
    "topics_req_df = pd.merge(topics_req_df, ip_info, left_on='user', right_on='user', how='left')\n",
    "topics_req_df.head()"
   ]
  },
  {
   "cell_type": "code",
   "execution_count": null,
   "metadata": {},
   "outputs": [],
   "source": [
    "topics_req_df.drop(topics_req_df[topics_req_df.host.str.contains('yandex')].index, inplace=True)\n",
    "topics_req_df.drop(topics_req_df[topics_req_df.host.str.contains('google')].index, inplace=True)\n",
    "topics_req_df.drop(topics_req_df[topics_req_df.host.str.contains('bot')].index, inplace=True)\n",
    "topics_req_df.drop(topics_req_df[topics_req_df.host.str.contains('crawl')].index, inplace=True)\n",
    "topics_req_df.drop(topics_req_df[topics_req_df.host.str.contains('yahoo')].index, inplace=True)\n",
    "topics_req_df.drop(topics_req_df[topics_req_df.host.str.contains('iparadigms')].index, inplace=True)"
   ]
  },
  {
   "cell_type": "markdown",
   "metadata": {},
   "source": [
    "This leaves us with"
   ]
  },
  {
   "cell_type": "code",
   "execution_count": null,
   "metadata": {},
   "outputs": [],
   "source": [
    "topics_req_df.describe(include='all')"
   ]
  },
  {
   "cell_type": "code",
   "execution_count": null,
   "metadata": {},
   "outputs": [],
   "source": [
    "downloads_req_df = pd.merge(downloads_req_df, ip_info, left_on='user', right_on='user', how='left')\n",
    "downloads_req_df.head(n=5)"
   ]
  },
  {
   "cell_type": "code",
   "execution_count": null,
   "metadata": {},
   "outputs": [],
   "source": [
    "downloads_req_df.describe(include='all')"
   ]
  },
  {
   "cell_type": "markdown",
   "metadata": {},
   "source": [
    "# Analysis of CSO downloads"
   ]
  },
  {
   "cell_type": "code",
   "execution_count": null,
   "metadata": {},
   "outputs": [],
   "source": [
    "versions = downloads_req_df.groupby('version')[['id']].nunique()\n",
    "\n",
    "pie = go.Pie(values=versions.id,\n",
    "              labels=versions.index,\n",
    "              textposition='inside',\n",
    "              name='Version',\n",
    "              hoverinfo='label+value+name',\n",
    "              hole=.4)\n",
    "\n",
    "donut = go.Layout(title='CSO downloads version fragmentation')\n",
    "fig = go.Figure(data=[pie], layout=donut)\n",
    "plotly.offline.iplot(fig)\n",
    "pio.write_image(fig, 'images/download_versions.png')"
   ]
  },
  {
   "cell_type": "code",
   "execution_count": null,
   "metadata": {},
   "outputs": [],
   "source": [
    "formats = downloads_req_df.groupby('format')[['id']].nunique()\n",
    "\n",
    "pie = go.Pie(values=formats.id,\n",
    "              labels=formats.index,\n",
    "              textposition='inside',\n",
    "              name='Format',\n",
    "              hoverinfo='label+value+name',\n",
    "              hole=.4)\n",
    "\n",
    "donut = go.Layout(title='CSO downloads format fragmentation')\n",
    "fig = go.Figure(data=[pie], layout=donut)\n",
    "plotly.offline.iplot(fig)\n",
    "pio.write_image(fig, 'images/download_formats.png')"
   ]
  },
  {
   "cell_type": "code",
   "execution_count": null,
   "metadata": {},
   "outputs": [],
   "source": [
    "download_data = downloads_req_df.groupby(['country'])['id'].count().reset_index()\n",
    "downloads_map = [ dict(\n",
    "        type = 'choropleth',\n",
    "        locationmode = 'country names',\n",
    "        locations = download_data['country'],\n",
    "        z = download_data['id'],\n",
    "        text = download_data['id'],\n",
    "        autocolorscale = True,\n",
    "        reversescale = False,\n",
    "        marker = dict(\n",
    "            line = dict (\n",
    "                color = 'rgb(180,180,180)',\n",
    "                width = 0.5\n",
    "            ) ),\n",
    "        colorbar = dict(\n",
    "            title = '#downloads'),\n",
    "      ) ]\n",
    "\n",
    "layout = dict(\n",
    "    title = 'Download distribution',\n",
    "    geo = dict(\n",
    "        showframe = False,\n",
    "        showcoastlines = True,\n",
    "        projection = dict(\n",
    "            type = 'equirectangular'\n",
    "        )\n",
    "    )\n",
    ")\n",
    "\n",
    "fig = dict(data=downloads_map, layout=layout)\n",
    "plotly.offline.iplot(fig, validate=False)\n",
    "pio.write_image(fig, 'images/downloads_distribution.png')"
   ]
  },
  {
   "cell_type": "code",
   "execution_count": null,
   "metadata": {},
   "outputs": [],
   "source": [
    "download_data.sort_values(by='id', ascending=False).head(n=10)"
   ]
  },
  {
   "cell_type": "markdown",
   "metadata": {},
   "source": [
    "# Analysis of CSO topic requests"
   ]
  },
  {
   "cell_type": "code",
   "execution_count": null,
   "metadata": {},
   "outputs": [],
   "source": [
    "formats = topics_req_df.groupby('format')[['id']].nunique()\n",
    "\n",
    "pie = go.Pie(values=formats.id,\n",
    "              labels=formats.index,\n",
    "              textposition='inside',\n",
    "              name='Format',\n",
    "              hoverinfo='label+value+name',\n",
    "              hole=.4)\n",
    "\n",
    "donut = go.Layout(title='CSO topic requests format fragmentation')\n",
    "fig = go.Figure(data=[pie], layout=donut)\n",
    "plotly.offline.iplot(fig)\n",
    "pio.write_image(fig, 'images/requests_formats.png')"
   ]
  },
  {
   "cell_type": "code",
   "execution_count": null,
   "metadata": {},
   "outputs": [],
   "source": [
    "hits = topics_req_df.groupby('exists')[['id']].nunique()\n",
    "\n",
    "pie = go.Pie(values=hits.id,\n",
    "              labels=hits.index,\n",
    "              textposition='inside',\n",
    "              name='Hit',\n",
    "              hoverinfo='label+value+name',\n",
    "              hole=.4)\n",
    "\n",
    "donut = go.Layout(title='CSO topics requests hits')\n",
    "fig = go.Figure(data=[pie], layout=donut)\n",
    "plotly.offline.iplot(fig)\n",
    "pio.write_image(fig, 'images/requests_hits.png')"
   ]
  },
  {
   "cell_type": "code",
   "execution_count": null,
   "metadata": {},
   "outputs": [],
   "source": [
    "requests_data = topics_req_df.groupby(['lat', 'lon'])['id'].count().reset_index()\n",
    "users_data = topics_req_df.groupby(['country'])['user'].nunique().reset_index()\n",
    "\n",
    "user_map = dict(\n",
    "        type = 'choropleth',\n",
    "        locationmode = 'country names',\n",
    "        locations = users_data['country'],\n",
    "        z = users_data['user'],\n",
    "        text = users_data['user'],\n",
    "        autocolorscale = True,\n",
    "        reversescale = False,\n",
    "        marker = dict(\n",
    "            line = dict (\n",
    "                color = 'rgb(180,180,180)',\n",
    "                width = 0.5\n",
    "            ) ),\n",
    "        colorbar = dict(\n",
    "            title = '#unique users'),\n",
    "      )\n",
    "\n",
    "bubbles = dict(\n",
    "    type = 'scattergeo',\n",
    "    lon = requests_data['lon'],\n",
    "    lat = requests_data['lat'],\n",
    "    text = requests_data['id'],\n",
    "    marker = dict(\n",
    "        size = requests_data['id'],\n",
    "        line = dict(width=0.5, color='rgb(40,40,40)'),\n",
    "        sizemode = 'area'\n",
    "    ))\n",
    "\n",
    "layout = dict(\n",
    "        title = 'Unique user and topic requests',\n",
    "        showlegend = False,\n",
    "        geo = dict(\n",
    "        showframe = False,\n",
    "        showcoastlines = True,\n",
    "        projection = dict(\n",
    "            type = 'equirectangular'\n",
    "        )\n",
    "    )\n",
    "    )\n",
    "\n",
    "fig = dict(data=[user_map, bubbles], layout=layout)\n",
    "plotly.offline.iplot(fig, validate=False)\n",
    "pio.write_image(fig, 'images/requests_distribution.png')"
   ]
  },
  {
   "cell_type": "code",
   "execution_count": null,
   "metadata": {},
   "outputs": [],
   "source": [
    "bars_data = topics_req_df[topics_req_df.exists == '1'].groupby('topic')[['id']].count().sort_values(by='id', ascending=False).reset_index()\n",
    "bars_data = bars_data[0:50]\n",
    "\n",
    "trace0 = go.Bar(\n",
    "    x = bars_data['topic'],\n",
    "    y = bars_data['id'])\n",
    "\n",
    "layout = go.Layout(title='Top-50 topics (hits)',\n",
    "                   xaxis=dict(tickangle=-45,\n",
    "                             automargin=True,\n",
    "                             tickfont=dict(size=9)),\n",
    "                   yaxis=dict(title='# requests',\n",
    "                              type='log'))\n",
    "                   \n",
    "fig = go.Figure(data=[trace0], layout=layout)\n",
    "plotly.offline.iplot(fig)\n",
    "pio.write_image(fig, 'images/topics_tip50.png')"
   ]
  },
  {
   "cell_type": "code",
   "execution_count": null,
   "metadata": {},
   "outputs": [],
   "source": [
    "bars_data = topics_req_df[topics_req_df.exists == '0'].groupby('topic')[['id']].count().sort_values(by='id', ascending=False).reset_index()\n",
    "bars_data = bars_data[0:50]\n",
    "\n",
    "trace0 = go.Bar(\n",
    "    x = bars_data['topic'],\n",
    "    y = bars_data['id'],\n",
    "    marker = dict(color='#cf0a5f'))\n",
    "\n",
    "layout = go.Layout(title='Top-50 topics (hits)',\n",
    "                   xaxis=dict(tickangle=-45,\n",
    "                             automargin=True,\n",
    "                             tickfont=dict(size=9)),\n",
    "                   yaxis=dict(title='# requests',\n",
    "                              type='log'))\n",
    "\n",
    "fig = go.Figure(data=[trace0], layout=layout)\n",
    "plotly.offline.iplot(fig)\n"
   ]
  },
  {
   "cell_type": "code",
   "execution_count": null,
   "metadata": {},
   "outputs": [],
   "source": []
  },
  {
   "cell_type": "code",
   "execution_count": null,
   "metadata": {},
   "outputs": [],
   "source": []
  }
 ],
 "metadata": {
  "kernelspec": {
   "display_name": "Python 3",
   "language": "python",
   "name": "python3"
  },
  "language_info": {
   "codemirror_mode": {
    "name": "ipython",
    "version": 3
   },
   "file_extension": ".py",
   "mimetype": "text/x-python",
   "name": "python",
   "nbconvert_exporter": "python",
   "pygments_lexer": "ipython3",
   "version": "3.6.3"
  }
 },
 "nbformat": 4,
 "nbformat_minor": 2
}
